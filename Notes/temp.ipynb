{
 "cells": [
  {
   "cell_type": "code",
   "execution_count": 1,
   "metadata": {},
   "outputs": [],
   "source": [
    "import sys\n",
    "sys.path.append('../tools')"
   ]
  },
  {
   "cell_type": "code",
   "execution_count": 2,
   "metadata": {
    "scrolled": true
   },
   "outputs": [],
   "source": [
    "from files.notebook import Notebook"
   ]
  },
  {
   "cell_type": "code",
   "execution_count": 3,
   "metadata": {},
   "outputs": [],
   "source": [
    "nb = Notebook()"
   ]
  },
  {
   "cell_type": "code",
   "execution_count": 4,
   "metadata": {},
   "outputs": [
    {
     "data": {
      "text/plain": [
       "['./Animations.ipynb',\n",
       " './Camera_Resolution.ipynb',\n",
       " './manim_in_Jupyter.ipynb',\n",
       " './manim_output_settings.ipynb',\n",
       " './Mobjects.ipynb',\n",
       " './temp.ipynb',\n",
       " './Text_and_Formula.ipynb']"
      ]
     },
     "execution_count": 4,
     "metadata": {},
     "output_type": "execute_result"
    }
   ],
   "source": [
    "nb.notebooks"
   ]
  },
  {
   "cell_type": "code",
   "execution_count": 5,
   "metadata": {},
   "outputs": [
    {
     "name": "stdout",
     "output_type": "stream",
     "text": [
      "Converting the Notebook to HTML.\n",
      "Looking for the Headers and their positions.\n",
      "Getting correct order of the Headers.\n",
      "Creating the Contents.\n",
      "Content copied to clipboard.\n"
     ]
    }
   ],
   "source": [
    "content = nb.create_content(nb.notebooks[-1], return_string = True)"
   ]
  },
  {
   "cell_type": "code",
   "execution_count": 6,
   "metadata": {},
   "outputs": [
    {
     "name": "stdout",
     "output_type": "stream",
     "text": [
      "<h1 id=\"Contents\">Contents<a href=\"#Contents\"></a></h1>\n",
      "        <ol>\n",
      "        <li><a class=\"\" href=\"#Imports\">Imports</a></li>\n",
      "<li><a class=\"\" href=\"#Rendering-Text-and-Formulas\">Rendering Text and Formulas</a></li>\n",
      "<ol><li><a class=\"\" href=\"#Text\">Text</a></li>\n",
      "<ol><li><a class=\"\" href=\"#Text\">Text</a></li>\n",
      "<ol><li><a class=\"\" href=\"#Fonts\">Fonts</a></li>\n",
      "<li><a class=\"\" href=\"#Colors\">Colors</a></li>\n",
      "<li><a class=\"\" href=\"#Setting-Line-Spacing\">Setting Line Spacing</a></li>\n",
      "<li><a class=\"\" href=\"#Iterating-Text\">Iterating Text</a></li>\n",
      "</ol><li><a class=\"\" href=\"#MarkupText\">MarkupText</a></li>\n",
      "<li><a class=\"\" href=\"#Paragraph\">Paragraph</a></li>\n",
      "<li><a class=\"\" href=\"#The-Write-animation\">The Write animation</a></li>\n",
      "</ol><li><a class=\"\" href=\"#LaTeX\">LaTeX</a></li>\n",
      "<ol><li><a class=\"\" href=\"#MathTex\">MathTex</a></li>\n",
      "<ol><li><a class=\"\" href=\"#Keywords-Arguments\">Keywords Arguments</a></li>\n",
      "</ol><li><a class=\"\" href=\"#Extra-LaTeX-Packages\">Extra LaTeX Packages</a></li>\n",
      "<li><a class=\"\" href=\"#Substrings-and-parts\">Substrings and parts</a></li>\n",
      "<ol><li><a class=\"\" href=\"#Using-index_labels\">Using index_labels</a></li>\n",
      "</ol>\n"
     ]
    }
   ],
   "source": [
    "print(content)"
   ]
  },
  {
   "cell_type": "code",
   "execution_count": 16,
   "metadata": {},
   "outputs": [
    {
     "name": "stderr",
     "output_type": "stream",
     "text": [
      "Exporting notebooks...: 100%|██████████| 6/6 [00:06<00:00,  1.07s/it]\n"
     ]
    }
   ],
   "source": [
    "files = nb.export_directory()"
   ]
  },
  {
   "cell_type": "code",
   "execution_count": 14,
   "metadata": {},
   "outputs": [
    {
     "data": {
      "text/plain": [
       "['././Animations.html',\n",
       " '././Camera_Resolution.html',\n",
       " '././manim_in_Jupyter.html',\n",
       " '././manim_output_settings.html',\n",
       " '././Mobjects.html',\n",
       " '././temp.html']"
      ]
     },
     "execution_count": 14,
     "metadata": {},
     "output_type": "execute_result"
    }
   ],
   "source": [
    "files"
   ]
  },
  {
   "cell_type": "code",
   "execution_count": 15,
   "metadata": {},
   "outputs": [
    {
     "name": "stdout",
     "output_type": "stream",
     "text": [
      "<ul><li>\n",
      "            <a href=\"Notes/Animations.html\" target=\"blank\" class=\"links\">Animations</a>\n",
      "          </li><li>\n",
      "            <a href=\"Notes/Camera_Resolution.html\" target=\"blank\" class=\"links\">Camera Resolution</a>\n",
      "          </li><li>\n",
      "            <a href=\"Notes/manim_in_Jupyter.html\" target=\"blank\" class=\"links\">manim in Jupyter</a>\n",
      "          </li><li>\n",
      "            <a href=\"Notes/manim_output_settings.html\" target=\"blank\" class=\"links\">manim output settings</a>\n",
      "          </li><li>\n",
      "            <a href=\"Notes/Mobjects.html\" target=\"blank\" class=\"links\">Mobjects</a>\n",
      "          </li></ul>\n"
     ]
    }
   ],
   "source": [
    "start = \"<ul>\"\n",
    "end = \"</ul>\"\n",
    "for f in files:\n",
    "    if \"temp\" in f:\n",
    "        continue\n",
    "    file = f.split(\"/\")[-1]\n",
    "    name = file.split(\".\")[0]\n",
    "    name = name.replace(\"_\", \" \")\n",
    "    start+=f\"\"\"<li>\n",
    "            <a href=\"Notes/{file}\" target=\"blank\" class=\"links\">{name}</a>\n",
    "          </li>\"\"\"\n",
    "start+=end\n",
    "print(start)"
   ]
  },
  {
   "cell_type": "markdown",
   "metadata": {},
   "source": [
    "# HTML Images Change"
   ]
  },
  {
   "cell_type": "code",
   "execution_count": 45,
   "metadata": {},
   "outputs": [],
   "source": [
    "import bs4\n",
    "import os\n",
    "import requests"
   ]
  },
  {
   "cell_type": "code",
   "execution_count": 46,
   "metadata": {},
   "outputs": [
    {
     "data": {
      "text/plain": [
       "['CNN.html',\n",
       " 'Creating_NN_From_Scratch.html',\n",
       " 'Different_Initializations.html',\n",
       " 'Neural_Networks.html',\n",
       " 'Optimization_Methods.html',\n",
       " 'Sequence_Models.html',\n",
       " 'temp.html']"
      ]
     },
     "execution_count": 46,
     "metadata": {},
     "output_type": "execute_result"
    }
   ],
   "source": [
    "html_notebooks = [file for file in os.listdir() if file.endswith(\".html\")]\n",
    "html_notebooks"
   ]
  },
  {
   "cell_type": "code",
   "execution_count": 47,
   "metadata": {},
   "outputs": [],
   "source": [
    "notebook = html_notebooks[-2]"
   ]
  },
  {
   "cell_type": "code",
   "execution_count": 48,
   "metadata": {},
   "outputs": [],
   "source": [
    "with open(notebook, \"r\") as f:\n",
    "    content = f.read()"
   ]
  },
  {
   "cell_type": "code",
   "execution_count": 49,
   "metadata": {},
   "outputs": [],
   "source": [
    "soup = bs4.BeautifulSoup(content, \"html.parser\")"
   ]
  },
  {
   "cell_type": "code",
   "execution_count": 50,
   "metadata": {},
   "outputs": [
    {
     "data": {
      "text/plain": [
       "'images/0601.jpeg'"
      ]
     },
     "execution_count": 50,
     "metadata": {},
     "output_type": "execute_result"
    }
   ],
   "source": [
    "soup.findAll(\"img\")[0].attrs[\"src\"]"
   ]
  },
  {
   "cell_type": "code",
   "execution_count": 51,
   "metadata": {},
   "outputs": [
    {
     "data": {
      "text/plain": [
       "['http://colah.github.io/posts/2015-08-Understanding-LSTMs/img/RNN-shorttermdepdencies.png',\n",
       " 'http://colah.github.io/posts/2015-08-Understanding-LSTMs/img/RNN-longtermdependencies.png',\n",
       " 'https://stanford.edu/~shervine/teaching/cs-230/illustrations/gradient-clipping-en.png?6c3de441dc56aad634dc1a91accb48f2',\n",
       " 'https://stanford.edu/~shervine/teaching/cs-230/illustrations/gru-ltr.png?00f278f71b4833d32a87ed53d86f251c',\n",
       " 'http://colah.github.io/posts/2015-08-Understanding-LSTMs/img/LSTM3-chain.png',\n",
       " 'http://colah.github.io/posts/2015-08-Understanding-LSTMs/img/LSTM3-C-line.png',\n",
       " 'https://cdn.analyticsvidhya.com/wp-content/uploads/2021/03/Screenshot-from-2021-03-16-13-41-03-768x342.png',\n",
       " 'http://colah.github.io/posts/2015-08-Understanding-LSTMs/img/LSTM3-focus-f.png',\n",
       " 'https://cdn.analyticsvidhya.com/wp-content/uploads/2021/03/Screenshot-from-2021-03-16-14-46-28.png',\n",
       " 'http://colah.github.io/posts/2015-08-Understanding-LSTMs/img/LSTM3-focus-i.png',\n",
       " 'http://colah.github.io/posts/2015-08-Understanding-LSTMs/img/LSTM3-focus-C.png',\n",
       " 'http://colah.github.io/posts/2015-08-Understanding-LSTMs/img/LSTM3-focus-o.png',\n",
       " 'http://colah.github.io/posts/2015-08-Understanding-LSTMs/img/LSTM3-var-peepholes.png',\n",
       " 'http://colah.github.io/posts/2015-08-Understanding-LSTMs/img/LSTM3-var-tied.png',\n",
       " 'http://colah.github.io/posts/2015-08-Understanding-LSTMs/img/LSTM3-var-GRU.png']"
      ]
     },
     "execution_count": 51,
     "metadata": {},
     "output_type": "execute_result"
    }
   ],
   "source": [
    "image_url = [img.attrs[\"src\"] for img in soup.findAll(\"img\")]\n",
    "web_image_url = [img for img in image_url if \"http\" in img]\n",
    "web_image_url"
   ]
  },
  {
   "cell_type": "code",
   "execution_count": 52,
   "metadata": {},
   "outputs": [],
   "source": [
    "def download_image(url, file_name):\n",
    "    url = url.split(\"?\")[0]\n",
    "    extension = url.split(\".\")[-1]\n",
    "    file_name = file_name + \".\" + extension\n",
    "    with open(file_name, \"wb\") as f:\n",
    "        f.write(requests.get(url).content)\n",
    "    return file_name"
   ]
  },
  {
   "cell_type": "code",
   "execution_count": 53,
   "metadata": {},
   "outputs": [
    {
     "data": {
      "text/plain": [
       "'images/temp.png'"
      ]
     },
     "execution_count": 53,
     "metadata": {},
     "output_type": "execute_result"
    }
   ],
   "source": [
    "file_name = os.path.join(\"images\", \"temp\")\n",
    "download_image(web_image_url[0], file_name)"
   ]
  },
  {
   "cell_type": "code",
   "execution_count": 54,
   "metadata": {},
   "outputs": [
    {
     "name": "stdout",
     "output_type": "stream",
     "text": [
      "14\r"
     ]
    }
   ],
   "source": [
    "SEQUENCE = \"07\"\n",
    "final_image_paths = []\n",
    "for i, url in enumerate(web_image_url):\n",
    "    print(i, end=\"\\r\")\n",
    "    file_name = os.path.join(\"images\", f\"{SEQUENCE}{i+1:02d}\")\n",
    "    file_name = download_image(url, file_name)\n",
    "    final_image_paths.append(file_name)\n"
   ]
  },
  {
   "cell_type": "code",
   "execution_count": 55,
   "metadata": {},
   "outputs": [],
   "source": [
    "raw_html = soup.prettify()\n",
    "for i in range(len(final_image_paths)):\n",
    "    raw_html = raw_html.replace(web_image_url[i], final_image_paths[i])"
   ]
  },
  {
   "cell_type": "code",
   "execution_count": 56,
   "metadata": {},
   "outputs": [],
   "source": [
    "with open(notebook, \"w\") as f:\n",
    "    f.write(raw_html)"
   ]
  },
  {
   "cell_type": "code",
   "execution_count": null,
   "metadata": {},
   "outputs": [],
   "source": []
  }
 ],
 "metadata": {
  "kernelspec": {
   "display_name": "manim",
   "language": "python",
   "name": "python3"
  },
  "language_info": {
   "codemirror_mode": {
    "name": "ipython",
    "version": 3
   },
   "file_extension": ".py",
   "mimetype": "text/x-python",
   "name": "python",
   "nbconvert_exporter": "python",
   "pygments_lexer": "ipython3",
   "version": "3.10.0"
  },
  "vscode": {
   "interpreter": {
    "hash": "44237e2e667e540bcdc201fff67cc6873408cac04d1bdfcd19bb6a7a762f7611"
   }
  }
 },
 "nbformat": 4,
 "nbformat_minor": 2
}
